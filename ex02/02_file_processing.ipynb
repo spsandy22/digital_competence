{
 "cells": [
  {
   "cell_type": "markdown",
   "metadata": {},
   "source": [
    "# File Processing\n",
    "\n",
    "This folder contains protein files from two different biosynthetic gene clusters. In this exercise we will again use wildcards to access some files rather than others, but this time we will learn more about pipes and how to safe our results in a new file."
   ]
  },
  {
   "cell_type": "markdown",
   "metadata": {},
   "source": [
    "## Flow of Information\n",
    "\n",
    "Before we start, lets first think about what happens when we look at the content of a file with `cat` in the shell. The command will open the file (or files) and print every line it finds into the terminal (the so called standart output or STDOUT).\n",
    "\n",
    "If we open up a pipe with `|` we will now use the output of the previous command and use it as input for the next command. This is also the reason why you need to specify a target file for the first command in a pipeline, but not for the ones afterwards. For example:\n",
    "\n",
    "```\n",
    "# open file and return every line | count every line returned by the previous command\n",
    "cat file.txt | wc -l\n",
    "```\n",
    "\n",
    "You can imagine this as a flow of information going from the first command with the datasource all the way to the last command in the pipeline where the modified result will then get printed.\n",
    "\n"
   ]
  },
  {
   "cell_type": "markdown",
   "metadata": {},
   "source": [
    "## Redirecting information to a file\n",
    "\n",
    "But what if you want to save the result of your pipeline in a new file? In this case, you can simply re-direct the information flow from the standart output (i.e. printing to the terminal) to a file by using the `>` character.\n",
    "\n",
    "```\n",
    "# safe file in your current directory\n",
    "cat file.txt | wc -l > linecount.txt\n",
    "\n",
    "# safe file anywhere\n",
    "cat file.txt | wc -l > /path/to/results/linecount.txt\n",
    "```\n",
    "\n",
    "Watch out though! If there is a file with the exact same name at this location it will be overwritten! For this reason, you cannot write to the file that you are reading from (your data source). If you try to do this, you will be left with only an empty file and sadness in your heart."
   ]
  },
  {
   "cell_type": "markdown",
   "metadata": {},
   "source": [
    "## Tasks\n",
    "\n",
    "1. How many sequences are there in each file? Document your commands below. This time, use **relative paths** to the files you want to access. (Your current directory is the one where this Jupyter notebook is located)"
   ]
  },
  {
   "cell_type": "markdown",
   "metadata": {},
   "source": [
    "2. Concatenate the sequences of each file into a single FASTA file."
   ]
  },
  {
   "cell_type": "markdown",
   "metadata": {},
   "source": [
    "3. What is the total length of the amino acid sequences for each file?"
   ]
  }
 ],
 "metadata": {
  "kernelspec": {
   "display_name": "Python 3",
   "language": "python",
   "name": "python3"
  },
  "language_info": {
   "codemirror_mode": {
    "name": "ipython",
    "version": 3
   },
   "file_extension": ".py",
   "mimetype": "text/x-python",
   "name": "python",
   "nbconvert_exporter": "python",
   "pygments_lexer": "ipython3",
   "version": "3.8.3"
  }
 },
 "nbformat": 4,
 "nbformat_minor": 4
}
