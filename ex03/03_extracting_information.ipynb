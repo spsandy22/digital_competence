{
 "cells": [
  {
   "cell_type": "markdown",
   "metadata": {},
   "source": [
    "# Extracting information\n",
    "\n",
    "The file IDs.txt contains a list of sequence identifiers along with the species name from where those sequences originated from. We are not sure whether the sequence identifiers are unique, but oftentimes this kind of information is very important for us. For example, you might want to know if your analysis identified 10 different genes of interest, or if you picked up a signal from the same gene over and over again.\n",
    "\n",
    "## Working with columns\n",
    "\n",
    "Although it is hard to see, there a two columns in the identifiers.txt file. Columns are divided by a tabulator or tab-stop. This special character is invisible when printed to STDOUT, but there is also a written version of it that the BASH shell will understand: `\\t`\n",
    "\n",
    "You can make use of these columns with commands like `cut`. For example, you can print only the first column of a file:"
   ]
  },
  {
   "cell_type": "code",
   "execution_count": 4,
   "metadata": {},
   "outputs": [
    {
     "name": "stdout",
     "output_type": "stream",
     "text": [
      "Drosophila melanogaster\n",
      "Drosophila melanogaster\n",
      "Drosophila melanogaster\n",
      "Drosophila melanogaster\n",
      "Drosophila melanogaster\n",
      "Drosophila melanogaster\n",
      "Drosophila melanogaster\n",
      "Drosophila melanogaster\n",
      "Drosophila melanogaster\n",
      "Drosophila melanogaster\n"
     ]
    }
   ],
   "source": [
    "%%bash\n",
    "# try running this cell in the notebook!\n",
    "cut -f1 identifiers.txt | head"
   ]
  },
  {
   "cell_type": "markdown",
   "metadata": {},
   "source": [
    "In another use case you can use cut with a delimiter of your choice, creating completely new columns!"
   ]
  },
  {
   "cell_type": "code",
   "execution_count": 3,
   "metadata": {},
   "outputs": [
    {
     "name": "stdout",
     "output_type": "stream",
     "text": [
      "Drosophila melanogaster\tdrome_14401\n",
      "Drosophila melanogaster\tdrome_14402\n",
      "Drosophila melanogaster\tdrome_14403\n",
      "Drosophila melanogaster\tdrome_14407\n",
      "Drosophila melanogaster\tdrome_14408\n",
      "Drosophila melanogaster\tdrome_1440\n",
      "Drosophila melanogaster\tdrome_14410\n",
      "Drosophila melanogaster\tdrome_14412\n",
      "Drosophila melanogaster\tdrome_14413\n",
      "Drosophila melanogaster\tdrome_14415\n"
     ]
    }
   ],
   "source": [
    "%%bash\n",
    "cut -d\"_\" -f1,3 identifiers.txt | head"
   ]
  },
  {
   "cell_type": "markdown",
   "metadata": {},
   "source": [
    "## How many of you are there? Testing uniqueness\n",
    "\n",
    "BASH has a build in function for testing uniqueness `uniq`. Be careful though, `uniq` will only compare if two subsequent lines are exactly the same. Look at this example:"
   ]
  },
  {
   "cell_type": "code",
   "execution_count": 17,
   "metadata": {},
   "outputs": [
    {
     "name": "stdout",
     "output_type": "stream",
     "text": [
      "The file looks like this:\n",
      "apple\n",
      "apple\n",
      "doctor\n",
      "apple\n"
     ]
    }
   ],
   "source": [
    "%%bash\n",
    "echo \"The file looks like this:\"\n",
    "cat example.txt"
   ]
  },
  {
   "cell_type": "code",
   "execution_count": 18,
   "metadata": {},
   "outputs": [
    {
     "name": "stdout",
     "output_type": "stream",
     "text": [
      "This is not unique at all :(\n",
      "apple\n",
      "doctor\n",
      "apple\n"
     ]
    }
   ],
   "source": [
    "%%bash\n",
    "echo \"This is not unique at all :(\"\n",
    "cat example.txt | uniq"
   ]
  },
  {
   "cell_type": "markdown",
   "metadata": {},
   "source": [
    "You can get around this by sorting the elements of your file first:"
   ]
  },
  {
   "cell_type": "code",
   "execution_count": 19,
   "metadata": {},
   "outputs": [
    {
     "name": "stdout",
     "output_type": "stream",
     "text": [
      "apple\n",
      "doctor\n"
     ]
    }
   ],
   "source": [
    "%%bash\n",
    "cat example.txt | sort | uniq"
   ]
  },
  {
   "cell_type": "code",
   "execution_count": 20,
   "metadata": {},
   "outputs": [
    {
     "name": "stdout",
     "output_type": "stream",
     "text": [
      "apple\n",
      "doctor\n"
     ]
    }
   ],
   "source": [
    "%%bash\n",
    "# this also works and involves less typing\n",
    "cat example.txt | sort -u"
   ]
  },
  {
   "cell_type": "code",
   "execution_count": 21,
   "metadata": {},
   "outputs": [
    {
     "name": "stdout",
     "output_type": "stream",
     "text": [
      "      3 apple\n",
      "      1 doctor\n"
     ]
    }
   ],
   "source": [
    "%%bash\n",
    "# if you want to count how many duplicates are in your file, you need to use uniq though\n",
    "cat example.txt | sort | uniq -c"
   ]
  },
  {
   "cell_type": "markdown",
   "metadata": {},
   "source": [
    "One last thing on sorting numbers: computer count in weird way, if you want to sort numbers in a numeric way use `sort -g`. The g stands for \"general numeric\""
   ]
  },
  {
   "cell_type": "markdown",
   "metadata": {},
   "source": [
    "## Tasks\n",
    "\n",
    "1. How many different species are in the file?"
   ]
  },
  {
   "cell_type": "markdown",
   "metadata": {},
   "source": [
    "2. How many identifiers are there for each species?"
   ]
  },
  {
   "cell_type": "markdown",
   "metadata": {},
   "source": [
    "3. How many unique identifiers are in the file for each species?"
   ]
  }

 ],
 "metadata": {
  "kernelspec": {
   "display_name": "Python 3",
   "language": "python",
   "name": "python3"
  },
  "language_info": {
   "codemirror_mode": {
    "name": "ipython",
    "version": 3
   },
   "file_extension": ".py",
   "mimetype": "text/x-python",
   "name": "python",
   "nbconvert_exporter": "python",
   "pygments_lexer": "ipython3",
   "version": "3.8.3"
  }
 },
 "nbformat": 4,
 "nbformat_minor": 4
}
